{
 "cells": [
  {
   "cell_type": "markdown",
   "metadata": {},
   "source": [
    "Problema 1: Creación de arrays con Numpy.\n",
    "\n",
    "a)Crear dos arrays de NumPy y asignarlos en variables. El primero debe ser de 1 dimensión y el segundo de 2 dimensiones. Aplicar en cada uno los métodos shape, ndim y size.\n",
    "b)Crear un array de ceros de dimensión (3,3) y un array de unos de dimensión (2,4).\n",
    "c)Crear un array definido con valores en el intervalo abierto [10,30) con un step de 2.\n",
    "d)Crear dos arrays de 2D con valores aleatorios de la distribución normal. Utilizar np.random.randn() y np.random.normal(). ¿Cuáles son las diferencias?\n",
    "e)Crear un array con el comando linspace.\n",
    "\n",
    "Problema 2: Operaciones con arrays en NumPy.\n",
    "\n",
    "a)Crear dos arrays y aplicar las operaciones arr1 + arr2 y arr1*arr2. ¿Qué condiciones deben cumplir arr1 y arr2?\n",
    "b)Verificar la multiplicación de un escalar por un array.\n",
    "c)De un array de 2D obtener la matriz traspuesta.\n",
    "d)Realizar la multiplicación de dos matrices de dimensiones apropiadas.\n",
    "\n",
    "Problema 3: Indexación y slicing de arrays de NumPy.\n",
    "\n",
    "a) Crear un array de dimensión (4,4) y extraer: el elemento de la fila 3 y columna 2; la segunda fila; y la tercera columna.\n",
    "b) Del array del ejercicio anterior, ¿Qué pasa si hacemos arr[1] = np.array([10,10,10,10])?\n",
    "c) ¿Y qué pasa si hacemos arr[1] = 99?\n",
    "\n",
    "\n",
    "Problema 4: Manipulación de arrays en NumPy.\n",
    "\n",
    "a)Crear un array de 12 elementos en una fila. Utilizar el comando reshape(). ¿Qué argumentos de entrada puede tomar? Mostrar dos ejemplos.\n",
    "b)En el array del ejercicio anterior, aplicar el comando split(). Mostrar 3 ejemplos.\n",
    "c)Crear dos arrays de 1D y usar el operador concatenate. Luego usar el mismo operador en dos arrays de dimensión (2,2). Probar con el parámetro axis= 0, y axis=1.\n",
    "\n",
    "\n",
    "Problema 5: Operaciones estadísticas en NumPy.\n",
    "a)Crear un array de dimensión (3,3) y aplicar los métodos mean(), std(), var() y sum().\n",
    "b)Repetir el ejercicio anterior utilizando el parámetro axis=0 y axis=1.\n",
    "\n",
    "\n",
    "Problema 6: Utilización de booleanos en NumPy.\n",
    "a)Crear un arreglo de 4 elementos y aplicar la máscara [False, True, True, False]. ¿Qué resulta?\n",
    "b)Crear un arreglo unidimensional de números enteros aleatorios y filtrar por los valores mayores al promedio, números impares y números pares menores al promedio.\n",
    "c) En un arreglo bidimensional A de valores aleatorios enteros, ¿qué diferencia hay entre hacer A > A.mean() y A [A> A.mean()?"
   ]
  },
  {
   "cell_type": "markdown",
   "metadata": {},
   "source": [
    "Problema 1: Creación de arrays con Numpy.\n",
    "\n",
    "a)Crear dos arrays de NumPy y asignarlos en variables. El primero debe ser de 1 dimensión y el segundo de 2 dimensiones. Aplicar en cada uno los métodos shape, ndim y size.\n"
   ]
  },
  {
   "cell_type": "code",
   "execution_count": 1,
   "metadata": {},
   "outputs": [
    {
     "name": "stdout",
     "output_type": "stream",
     "text": [
      "[ 1  2  3  4  5  6  7  8  9 10]\n",
      "[[2 4 6]\n",
      " [7 2 4]]\n",
      "(10,)\n",
      "1\n",
      "10\n",
      "(2, 3)\n",
      "2\n",
      "6\n"
     ]
    }
   ],
   "source": [
    "import numpy as np\n",
    "a=np.array([1,2,3,4,5,6,7,8,9,10])\n",
    "print(a)\n",
    "\n",
    "b=np.array([\n",
    "    [2,4,6],[7,2,4]\n",
    "])\n",
    "\n",
    "print(b)\n",
    "\n",
    "print(a.shape)\n",
    "print(a.ndim)\n",
    "print(a.size)\n",
    "\n",
    "print(b.shape)\n",
    "print(b.ndim)\n",
    "print(b.size)"
   ]
  },
  {
   "cell_type": "markdown",
   "metadata": {},
   "source": [
    "b)Crear un array de ceros de dimensión (3,3) y un array de unos de dimensión (2,4).\n"
   ]
  },
  {
   "cell_type": "code",
   "execution_count": 2,
   "metadata": {},
   "outputs": [
    {
     "name": "stdout",
     "output_type": "stream",
     "text": [
      "[[0. 0. 0.]\n",
      " [0. 0. 0.]\n",
      " [0. 0. 0.]]\n",
      "[[1. 1. 1. 1.]\n",
      " [1. 1. 1. 1.]]\n"
     ]
    }
   ],
   "source": [
    "a=np.zeros([3,3])\n",
    "print(a)\n",
    "b=np.ones([2,4])\n",
    "print(b)"
   ]
  },
  {
   "cell_type": "markdown",
   "metadata": {},
   "source": [
    "c)Crear un array definido con valores en el intervalo abierto [10,30) con un step de 2.\n"
   ]
  },
  {
   "cell_type": "code",
   "execution_count": 3,
   "metadata": {},
   "outputs": [
    {
     "name": "stdout",
     "output_type": "stream",
     "text": [
      "[10 12 14 16 18 20 22 24 26 28]\n"
     ]
    }
   ],
   "source": [
    "a=np.arange(10,30,2)\n",
    "print(a)\n"
   ]
  },
  {
   "cell_type": "markdown",
   "metadata": {},
   "source": [
    "d)Crear dos arrays de 2D con valores aleatorios de la distribución normal. Utilizar np.random.randn() y np.random.normal(). ¿Cuáles son las diferencias?\n",
    "\n",
    "En el contexto de la probabilidad y la estadística, un aleatorio uniforme se refiere a una distribución de probabilidad en la que todos los valores dentro de un rango específico tienen la misma probabilidad de ocurrir. Se dice que son equitativamente probables.\n",
    "\n",
    "Imaginemos una urna llena de pelotas numeradas del 1 al 10. Si extraemos una pelota al azar, cada número tiene la misma probabilidad de ser seleccionado (1/10). Esta es una analogía simple de una distribución aleatoria uniforme.\n",
    "\n",
    "Matemáticamente, una variable aleatoria continua con distribución uniforme X en el intervalo [a, b] se define por su función de densidad de probabilidad (f.d.p.):\n",
    "\n",
    "f(x) = 1/(b - a)  para a ≤ x ≤ b\n",
    "\n",
    "Donde:\n",
    "\n",
    "a es el límite inferior del intervalo.\n",
    "b es el límite superior del intervalo.\n",
    "\n",
    "La f.d.p. nos indica la probabilidad de que X tome un valor específico dentro del intervalo. En este caso, la probabilidad es constante en todo el rango, lo que significa que todos los valores son igualmente probables.\n",
    "\n",
    "Propiedades de la distribución aleatoria uniforme:\n",
    "\n",
    "Media: La media de una variable aleatoria uniforme continua es igual al punto medio del intervalo: (a + b) / 2.\n",
    "\n",
    "Varianza: La varianza es igual a (b - a)^2 / 12.\n",
    "\n",
    "Moda: La distribución aleatoria uniforme no tiene una moda única, ya que todos los valores dentro del intervalo son igualmente probables.\n"
   ]
  },
  {
   "cell_type": "code",
   "execution_count": 4,
   "metadata": {},
   "outputs": [
    {
     "name": "stdout",
     "output_type": "stream",
     "text": [
      "[[-1.95623381  0.24239654]\n",
      " [ 0.68752959  0.31433435]\n",
      " [ 0.37702998 -0.37718455]\n",
      " [ 0.20045965 -2.68764495]\n",
      " [ 1.33611362 -0.49511878]\n",
      " [ 0.01971936 -0.75396598]\n",
      " [ 1.02474148 -0.06688304]\n",
      " [ 0.69391694  0.16975491]\n",
      " [-1.23409246 -0.43226127]\n",
      " [ 0.16816376 -1.08060374]]\n"
     ]
    }
   ],
   "source": [
    "a=np.random.randn(10,2)\n",
    "print(a)"
   ]
  },
  {
   "cell_type": "markdown",
   "metadata": {},
   "source": [
    "Un número aleatorio normal se genera a partir de una distribución normal, la cual es una distribución de probabilidad en forma de campana que describe la frecuencia con la que ocurren eventos aleatorios.\n",
    "\n",
    "En una distribución normal, la mayoría de los valores se agrupan alrededor de un valor central (media) y la probabilidad de encontrar valores alejados de la media disminuye rápidamente a medida que nos alejamos de ella.\n",
    "\n",
    "La distribución normal se caracteriza por dos parámetros importantes:\n",
    "\n",
    "Media (µ): Representa el valor promedio de la distribución.\n",
    "Desviación estándar (σ): Indica qué tan dispersos están los valores alrededor de la media. Una desviación estándar mayor implica una mayor dispersión.\n",
    "\n",
    "Propiedades de la distribución normal:\n",
    "\n",
    "Forma de campana: La gráfica de la distribución normal tiene una forma de campana simétrica, con la media en el punto más alto.\n",
    "\n",
    "68% dentro de 1σ: El 68% de los valores aleatorios generados a partir de una distribución normal se encuentran dentro de un intervalo de ±1 desviación estándar alrededor de la media.\n",
    "\n",
    "95% dentro de 2σ: El 95% de los valores aleatorios se encuentran dentro de un intervalo de ±2 desviaciones estándar alrededor de la media.\n",
    "\n",
    "99,7% dentro de 3σ: El 99,7% de los valores aleatorios se encuentran dentro de un intervalo de ±3 desviaciones estándar alrededor de la media."
   ]
  },
  {
   "cell_type": "code",
   "execution_count": 5,
   "metadata": {},
   "outputs": [
    {
     "name": "stdout",
     "output_type": "stream",
     "text": [
      "[[5.50894835 4.31165061]\n",
      " [4.22521955 4.59891188]\n",
      " [4.65884827 4.32873899]\n",
      " [4.32556855 4.61966718]\n",
      " [4.02209641 4.73860086]\n",
      " [4.48593959 4.69054105]\n",
      " [4.89649628 4.5773106 ]\n",
      " [2.82968942 4.09817978]\n",
      " [4.59576408 3.75225172]\n",
      " [6.35670575 4.9802934 ]]\n"
     ]
    }
   ],
   "source": [
    "a=np.random.normal(5,0.8,(10,2))\n",
    "print(a)"
   ]
  },
  {
   "cell_type": "markdown",
   "metadata": {},
   "source": [
    "e)Crear un array con el comando linspace.\n",
    "\n",
    "Esta función que divide en partes definida iguales desde un número hasta otro punto a diferencia de cuando usamos el arange le decimos el step y la cantidad de elementos varian "
   ]
  },
  {
   "cell_type": "code",
   "execution_count": 6,
   "metadata": {},
   "outputs": [
    {
     "name": "stdout",
     "output_type": "stream",
     "text": [
      "[ 1.          1.09090909  1.18181818  1.27272727  1.36363636  1.45454545\n",
      "  1.54545455  1.63636364  1.72727273  1.81818182  1.90909091  2.\n",
      "  2.09090909  2.18181818  2.27272727  2.36363636  2.45454545  2.54545455\n",
      "  2.63636364  2.72727273  2.81818182  2.90909091  3.          3.09090909\n",
      "  3.18181818  3.27272727  3.36363636  3.45454545  3.54545455  3.63636364\n",
      "  3.72727273  3.81818182  3.90909091  4.          4.09090909  4.18181818\n",
      "  4.27272727  4.36363636  4.45454545  4.54545455  4.63636364  4.72727273\n",
      "  4.81818182  4.90909091  5.          5.09090909  5.18181818  5.27272727\n",
      "  5.36363636  5.45454545  5.54545455  5.63636364  5.72727273  5.81818182\n",
      "  5.90909091  6.          6.09090909  6.18181818  6.27272727  6.36363636\n",
      "  6.45454545  6.54545455  6.63636364  6.72727273  6.81818182  6.90909091\n",
      "  7.          7.09090909  7.18181818  7.27272727  7.36363636  7.45454545\n",
      "  7.54545455  7.63636364  7.72727273  7.81818182  7.90909091  8.\n",
      "  8.09090909  8.18181818  8.27272727  8.36363636  8.45454545  8.54545455\n",
      "  8.63636364  8.72727273  8.81818182  8.90909091  9.          9.09090909\n",
      "  9.18181818  9.27272727  9.36363636  9.45454545  9.54545455  9.63636364\n",
      "  9.72727273  9.81818182  9.90909091 10.        ]\n"
     ]
    }
   ],
   "source": [
    "a=np.linspace(1,10,100)\n",
    "print(a)"
   ]
  },
  {
   "cell_type": "markdown",
   "metadata": {},
   "source": [
    "a)Crear dos arrays y aplicar las operaciones arr1 + arr2 y arr1*arr2. ¿Qué condiciones deben cumplir arr1 y arr2?\n",
    "\n",
    "para realizar las operaciones arr1 + arr2 y arr1 * arr2 deben cumplir:\n",
    "\n",
    "Misma dimensión: Los arrays deben tener el mismo número de dimensiones y el mismo tamaño en cada dimensión.\n",
    "\n",
    "suman y multiplican elemento por elemento\n",
    "\n"
   ]
  },
  {
   "cell_type": "code",
   "execution_count": 7,
   "metadata": {},
   "outputs": [
    {
     "name": "stdout",
     "output_type": "stream",
     "text": [
      "la suma de arr1:[[3 4 5]\n",
      " [6 7 8]] + arr2: [[ 9 10 11]\n",
      " [12 13 14]] es arr_suma: [[12 14 16]\n",
      " [18 20 22]]\n",
      "la multiplicación de arr1:[[3 4 5]\n",
      " [6 7 8]] * arr2: [[ 9 10 11]\n",
      " [12 13 14]] es arr_mult: [[ 27  40  55]\n",
      " [ 72  91 112]]\n"
     ]
    }
   ],
   "source": [
    "arr1=np.array([[3,4,5],[6,7,8]])\n",
    "arr2=np.array([[9,10,11],[12,13,14]])\n",
    "arr_suma=arr1+arr2\n",
    "arr_mult=arr1*arr2\n",
    "print(f\"la suma de arr1:{arr1} + arr2: {arr2} es arr_suma: {arr_suma}\")\n",
    "print(f\"la multiplicación de arr1:{arr1} * arr2: {arr2} es arr_mult: {arr_mult}\")"
   ]
  },
  {
   "cell_type": "markdown",
   "metadata": {},
   "source": [
    "b)Verificar la multiplicación de un escalar por un array."
   ]
  },
  {
   "cell_type": "code",
   "execution_count": 8,
   "metadata": {},
   "outputs": [
    {
     "name": "stdout",
     "output_type": "stream",
     "text": [
      "la multiplicación de un escalar: 2 y de arr1:[[3 4 5]\n",
      " [6 7 8]] es el nuevo arr: [[ 6  8 10]\n",
      " [12 14 16]]\n"
     ]
    }
   ],
   "source": [
    "escalar=2\n",
    "arr=escalar*arr1\n",
    "print(f\"la multiplicación de un escalar: {escalar} y de arr1:{arr1} es el nuevo arr: {arr}\")"
   ]
  },
  {
   "cell_type": "markdown",
   "metadata": {},
   "source": [
    "c)De un array de 2D obtener la matriz traspuesta."
   ]
  },
  {
   "cell_type": "code",
   "execution_count": 9,
   "metadata": {},
   "outputs": [
    {
     "name": "stdout",
     "output_type": "stream",
     "text": [
      "el arr1: [[3 4 5]\n",
      " [6 7 8]] es de dim:2\n",
      "la traspuesta de el arr1: [[3 4 5]\n",
      " [6 7 8]] es matriz_traspuesta:[[3 6]\n",
      " [4 7]\n",
      " [5 8]]\n"
     ]
    }
   ],
   "source": [
    "print(f\"el arr1: {arr1} es de dim:{arr1.ndim}\")\n",
    "matriz_traspuesta=arr1.transpose()\n",
    "print(f\"la traspuesta de el arr1: {arr1} es matriz_traspuesta:{matriz_traspuesta}\")"
   ]
  },
  {
   "cell_type": "markdown",
   "metadata": {},
   "source": [
    "d)Realizar la multiplicación de dos matrices de dimensiones apropiadas.\n",
    "\n",
    "para realizar las operaciones matriciales de arr1 @ arr2 deben cumplir:\n",
    "\n",
    "La cantidad de columnas del primer array (arr1) debe ser igual a la cantidad de filas del segundo array (arr2)."
   ]
  },
  {
   "cell_type": "code",
   "execution_count": 10,
   "metadata": {},
   "outputs": [
    {
     "name": "stdout",
     "output_type": "stream",
     "text": [
      "la multiplicación matricial de arr1:[[3 4 5]\n",
      " [6 7 8]] @ arr2: [[3 6]\n",
      " [4 7]\n",
      " [5 8]] es arr_mult_matricial: [[ 50  86]\n",
      " [ 86 149]]\n"
     ]
    }
   ],
   "source": [
    "arr_mult_matricial=arr1@matriz_traspuesta\n",
    "\n",
    "print(f\"la multiplicación matricial de arr1:{arr1} @ arr2: {matriz_traspuesta} es arr_mult_matricial: {arr_mult_matricial}\")"
   ]
  },
  {
   "cell_type": "markdown",
   "metadata": {},
   "source": [
    "Problema 3: Indexación y slicing de arrays de NumPy.\n",
    "\n",
    "a) Crear un array de dimensión (4,4) y extraer: el elemento de la fila 3 y columna 2; la segunda fila; y la tercera columna.\n",
    "\n",
    "Indexación y slicing de arrays de NumPy\n",
    "La indexación y el slicing son dos herramientas fundamentales para acceder a elementos específicos o subconjuntos de elementos dentro de arrays de NumPy. Estas técnicas permiten seleccionar y manipular datos de manera eficiente en diversas aplicaciones de computación científica y análisis de datos.\n",
    "\n",
    "1. Indexación básica:\n",
    "\n",
    "La indexación básica se utiliza para acceder a un elemento específico dentro de un array. Se utiliza la notación de corchetes [] donde se indica la posición del elemento deseado.\n",
    "La posición del elemento se define por un índice entero. El primer elemento tiene índice 0, el segundo índice 1, y así sucesivamente.\n",
    "\n",
    "Ejemplo: arr = np.array([1, 2, 3]); print(arr[0]) imprime el elemento en la posición 0 (resultado: 1).\n",
    "\n",
    "2. Indexación negativa:\n",
    "\n",
    "La indexación negativa permite acceder a elementos desde el final del array. El primer elemento desde el final tiene índice -1, el segundo índice -2, y así sucesivamente.\n",
    "Ejemplo: arr = np.array([1, 2, 3]); print(arr[-1]) imprime el último elemento (resultado: 3).\n",
    "\n",
    "3. Indexación con múltiples dimensiones:\n",
    "\n",
    "Para arrays multidimensionales (matrices, etc.), se utilizan múltiples conjuntos de corchetes separados por comas para acceder a elementos específicos en cada dimensión.\n",
    "Ejemplo: arr = np.array([[1, 2], [3, 4]]); print(arr[1, 0]) imprime el elemento en la fila 1 y columna 0 (resultado: 3).\n",
    "4. Slicing:\n",
    "\n",
    "El slicing permite seleccionar subconjuntos de elementos dentro de un array. Se utiliza la notación de dos puntos : dentro de los corchetes [].\n",
    "La sintaxis básica es arr[start:stop], donde start indica el índice inicial (inclusivo) y stop indica el índice final (exclusivo).\n",
    "Ejemplo: arr = np.array([1, 2, 3, 4, 5]); print(arr[1:3]) imprime un subarray desde la posición 1 hasta la 2 (resultado: [2, 3]).\n",
    "5. Slicing con paso:\n",
    "\n",
    "Se puede especificar un paso para seleccionar elementos a intervalos regulares dentro del subarray. Se utiliza la sintaxis arr[start:stop:step].\n",
    "El valor de step indica la distancia entre los elementos seleccionados.\n",
    "Ejemplo: arr = np.array([1, 2, 3, 4, 5]); print(arr[1:5:2]) imprime elementos impares desde la posición 1 hasta la 5 (resultado: [2, 4]).\n",
    "6. Slicing con índices negativos:\n",
    "\n",
    "El slicing también funciona con índices negativos para seleccionar subarrays desde el final del array.\n",
    "Ejemplo: arr = np.array([1, 2, 3, 4, 5]); print(arr[-2:]) imprime un subarray desde la penúltima posición hasta el final (resultado: [4, 5]).\n",
    "7. Slicing con booleanos:\n",
    "\n",
    "Se pueden utilizar arrays booleanos como índices para seleccionar elementos específicos o subconjuntos de elementos.\n",
    "Ejemplo: arr = np.array([1, 2, 3, 4, 5]); mask = arr > 2; print(arr[mask]) imprime los elementos mayores que 2 (resultado: [3, 4, 5])."
   ]
  },
  {
   "cell_type": "code",
   "execution_count": 11,
   "metadata": {},
   "outputs": [
    {
     "name": "stdout",
     "output_type": "stream",
     "text": [
      "[[ 1  2  3  4]\n",
      " [ 5  6  7  8]\n",
      " [ 9 10 11 12]\n",
      " [13 14 15 16]]\n",
      "el elemetno de la fila 3 y columna 2 es: 10\n",
      "se imprimen los elemetnos de la fila 2: [5 6 7 8]\n",
      "se imprimen los elemetnos de la columna 3: [ 3  7 11 15]\n"
     ]
    }
   ],
   "source": [
    "arr=np.array([[1,2,3,4],[5,6,7,8],[9,10,11,12],[13,14,15,16]])\n",
    "print(arr)\n",
    "print(f\"el elemetno de la fila 3 y columna 2 es: {arr[2][1]}\")\n",
    "\n",
    "print(f\"se imprimen los elemetnos de la fila 2: {arr[1,:]}\")\n",
    "print(f\"se imprimen los elemetnos de la columna 3: {arr[:,2]}\")\n",
    "\n",
    "\n",
    "\n"
   ]
  },
  {
   "cell_type": "markdown",
   "metadata": {},
   "source": [
    "b) Del array del ejercicio anterior, ¿Qué pasa si hacemos arr[1] = np.array([10,10,10,10])?\n"
   ]
  },
  {
   "cell_type": "code",
   "execution_count": 12,
   "metadata": {},
   "outputs": [
    {
     "name": "stdout",
     "output_type": "stream",
     "text": [
      "[[ 1  2  3  4]\n",
      " [10 10 10 10]\n",
      " [ 9 10 11 12]\n",
      " [13 14 15 16]]\n"
     ]
    }
   ],
   "source": [
    "arr[1] = np.array([10,10,10,10])\n",
    "print(arr)"
   ]
  },
  {
   "cell_type": "markdown",
   "metadata": {},
   "source": [
    "c) ¿Y qué pasa si hacemos arr[1] = 99?"
   ]
  },
  {
   "cell_type": "code",
   "execution_count": 13,
   "metadata": {},
   "outputs": [
    {
     "name": "stdout",
     "output_type": "stream",
     "text": [
      "[[ 1  2  3  4]\n",
      " [99 99 99 99]\n",
      " [ 9 10 11 12]\n",
      " [13 14 15 16]]\n"
     ]
    }
   ],
   "source": [
    "arr[1] = 99\n",
    "print(arr)"
   ]
  },
  {
   "cell_type": "markdown",
   "metadata": {},
   "source": [
    "Problema 4: Manipulación de arrays en NumPy.\n",
    "\n",
    "a)Crear un array de 12 elementos en una fila. Utilizar el comando reshape(). ¿Qué argumentos de entrada puede tomar? Mostrar dos ejemplos.\n",
    "\n",
    "La función reshape() en NumPy y Python se utiliza para cambiar la forma de un array sin modificar sus datos. Esto significa que se puede redistribuir los elementos del array en una nueva estructura dimensional, manteniendo el mismo contenido numérico.\n",
    "\n",
    "numpy.reshape(array, newshape, order='C')\n",
    "\n",
    "array: El array que se desea redimensionar.\n",
    "\n",
    "newshape: Una tupla que especifica la nueva forma deseada para el array. La longitud de la tupla debe ser igual al número de dimensiones del array original.\n",
    "\n",
    "order (opcional): Un string que indica el orden de llenado del nuevo array. Los valores válidos\n",
    "son 'C' (orden C contiguo) y 'F' (orden Fortran contiguo). El valor por defecto es 'C'.\n",
    "\n",
    "En resumen, la función reshape() es una herramienta fundamental para manipular la forma de los arrays de NumPy y Python, permitiendo una redistribución flexible de los datos sin alterar su contenido."
   ]
  },
  {
   "cell_type": "code",
   "execution_count": 14,
   "metadata": {},
   "outputs": [
    {
     "name": "stdout",
     "output_type": "stream",
     "text": [
      "[ 1  2  3  4  5  6  7  8  9 10 11 12]\n",
      "[[ 1  2  3  4]\n",
      " [ 5  6  7  8]\n",
      " [ 9 10 11 12]]\n"
     ]
    }
   ],
   "source": [
    "arr=np.array([1,2,3,4,5,6,7,8,9,10,11,12])\n",
    "arr_reshape=np.reshape(arr,(3,4))\n",
    "\n",
    "print(arr)\n",
    "print(arr_reshape)\n"
   ]
  },
  {
   "cell_type": "markdown",
   "metadata": {},
   "source": [
    "b)En el array del ejercicio anterior, aplicar el comando split(). Mostrar 3 ejemplos.\n",
    "\n",
    "La función np.split() en NumPy es una herramienta fundamental para dividir arrays multidimensionales en subarrays de tamaños (casi) iguales a lo largo de un eje especificado. Es particularmente útil para procesar y analizar datos estructurados en arrays NumPy.\n",
    "\n",
    "np.array_split(array, indices_or_sections, axis=None)\n",
    "\n",
    "array: \n",
    "El array NumPy que se desea dividir.\n",
    "\n",
    "indices_or_sections:\n",
    "Si es un entero (N), divide el array en N subarrays de tamaño igual a lo largo del eje especificado. El array se divide de la manera más uniforme posible, con un posible resto distribuido entre los subarrays al final.\n",
    "Si es una lista de enteros ([i1, i2, ..., iK]), divide el array en subarrays en los índices especificados. Los subarrays tendrán tamaños variables, correspondientes a las distancias entre los índices adyacentes.\n",
    "\n",
    "axis (opcional): El eje a lo largo del cual se realiza la división. El valor predeterminado es 0 (filas para arrays 2D).\n"
   ]
  },
  {
   "cell_type": "code",
   "execution_count": 15,
   "metadata": {},
   "outputs": [
    {
     "name": "stdout",
     "output_type": "stream",
     "text": [
      "[array([1, 2, 3]), array([4, 5, 6]), array([7, 8, 9]), array([10, 11, 12])]\n",
      "[array([1, 2, 3]), array([4, 5, 6]), array([7, 8, 9]), array([10, 11, 12])]\n"
     ]
    }
   ],
   "source": [
    "sub_arr=np.split(arr,4)\n",
    "print(sub_arr)\n",
    "\n",
    "sub_arr=np.split(arr,4,0)\n",
    "print(sub_arr)"
   ]
  },
  {
   "cell_type": "markdown",
   "metadata": {},
   "source": [
    "c)Crear dos arrays de 1D y usar el operador concatenate. Luego usar el mismo operador en dos arrays de dimensión (2,2). Probar con el parámetro axis= 0, y axis=1.\n",
    "\n",
    "La función concatenate en NumPy es una herramienta fundamental para combinar arrays a lo largo de un eje especificado, creando un nuevo array con los elementos de los arrays originales concatenados. Es esencial para construir estructuras de datos más complejas y realizar operaciones avanzadas en arrays NumPy.\n",
    "\n",
    "np.concatenate(arrays, axis=None, out=None)\n",
    "arrays: Una secuencia de arrays que se desean concatenar (puede ser una lista, tupla o cualquier iterable).\n",
    "\n",
    "axis (opcional): El eje a lo largo del cual se realiza la concatenación. El valor predeterminado es None (convierte todos los arrays a una dimensión y luego los concatena).\n",
    "\n",
    "out (opcional): Un array opcional en el que se almacena el resultado de la concatenación. Si se omite, se crea un nuevo array."
   ]
  },
  {
   "cell_type": "code",
   "execution_count": 16,
   "metadata": {},
   "outputs": [
    {
     "name": "stdout",
     "output_type": "stream",
     "text": [
      "[1 2 3]\n",
      "[4 5 6]\n",
      "[1 2 3 4 5 6]\n",
      "[[1 2]\n",
      " [4 5]]\n",
      "[[ 7  8]\n",
      " [10 11]]\n",
      "[[ 1  2  7  8]\n",
      " [ 4  5 10 11]]\n",
      "[[ 1  2]\n",
      " [ 4  5]\n",
      " [ 7  8]\n",
      " [10 11]]\n"
     ]
    }
   ],
   "source": [
    "arr1 = np.array([1, 2, 3])\n",
    "arr2 = np.array([4, 5, 6])\n",
    "print(arr1)\n",
    "print(arr2)\n",
    "\n",
    "concatenated_array = np.concatenate((arr1, arr2), axis=0)\n",
    "\n",
    "print(concatenated_array)\n",
    "\n",
    "arr1 = np.array([[1, 2],[4,5]])\n",
    "arr2 = np.array([[7,8],[10,11]])\n",
    "\n",
    "print(arr1)\n",
    "print(arr2)\n",
    "\n",
    "concatenated_array = np.concatenate((arr1, arr2), axis=1)\n",
    "print(concatenated_array)\n",
    "\n",
    "concatenated_array = np.concatenate((arr1, arr2), axis=0)\n",
    "print(concatenated_array)\n"
   ]
  },
  {
   "cell_type": "markdown",
   "metadata": {},
   "source": [
    "Problema 5: Operaciones estadísticas en NumPy.\n",
    "\n",
    "a)Crear un array de dimensión (3,3) y aplicar los métodos mean(), std(), var() y sum().\n",
    "\n",
    "mean() (Media):\n",
    "Calcula la media aritmética de los elementos de un array NumPy.\n",
    "\n",
    "std() (Desviación estándar):\n",
    "Estima la desviación estándar de los elementos de un array NumPy. Representa la variabilidad de los datos en torno a la media.\n",
    "\n",
    "var() (Varianza):\n",
    "Calcula la varianza de los elementos de un array NumPy. Es el cuadrado de la desviación estándar.\n",
    "\n",
    "std = sqrt( mean( (x - mean(x))^2 ) )\n",
    "\n",
    "Donde:\n",
    "std es la desviación estándar.\n",
    "sqrt es la función raíz cuadrada.\n",
    "mean(x) es la media aritmética de todos los elementos en el array x.\n",
    "(x - mean(x)) es la diferencia de cada elemento x con respecto a la media.\n",
    "mean((x - mean(x))^2) es la media de los cuadrados de las diferencias.\n",
    "\n",
    "sum() (Suma):\n",
    "Calcula la suma de todos los elementos de un array NumPy.\n",
    "\n",
    "\n"
   ]
  },
  {
   "cell_type": "code",
   "execution_count": 17,
   "metadata": {},
   "outputs": [
    {
     "name": "stdout",
     "output_type": "stream",
     "text": [
      "[[1 2 3]\n",
      " [4 5 6]\n",
      " [7 8 9]]\n",
      "5.0\n",
      "2.581988897471611\n",
      "6.666666666666667\n",
      "45\n"
     ]
    }
   ],
   "source": [
    "arr=np.array([[1,2,3],[4,5,6],[7,8,9]])\n",
    "print(arr)\n",
    "print(arr.mean())\n",
    "print(arr.std())\n",
    "print(arr.var())\n",
    "print(arr.sum())"
   ]
  },
  {
   "cell_type": "markdown",
   "metadata": {},
   "source": [
    "b)Repetir el ejercicio anterior utilizando el parámetro axis=0 y axis=1."
   ]
  },
  {
   "cell_type": "code",
   "execution_count": 18,
   "metadata": {},
   "outputs": [
    {
     "name": "stdout",
     "output_type": "stream",
     "text": [
      "[[1 2 3]\n",
      " [4 5 6]\n",
      " [7 8 9]]\n",
      "[4. 5. 6.]\n",
      "[2.44948974 2.44948974 2.44948974]\n",
      "[6. 6. 6.]\n",
      "[12 15 18]\n",
      "[2. 5. 8.]\n",
      "[0.81649658 0.81649658 0.81649658]\n",
      "[0.66666667 0.66666667 0.66666667]\n",
      "[ 6 15 24]\n"
     ]
    }
   ],
   "source": [
    "arr=np.array([[1,2,3],[4,5,6],[7,8,9]])\n",
    "print(arr)\n",
    "print(arr.mean(axis=0))\n",
    "print(arr.std(axis=0))\n",
    "print(arr.var(axis=0))\n",
    "print(arr.sum(axis=0))\n",
    "\n",
    "\n",
    "print(arr.mean(axis=1))\n",
    "print(arr.std(axis=1))\n",
    "print(arr.var(axis=1))\n",
    "print(arr.sum(axis=1))"
   ]
  },
  {
   "cell_type": "markdown",
   "metadata": {},
   "source": [
    "\n",
    "Problema 6: Utilización de booleanos en NumPy.\n",
    "a)Crear un arreglo de 4 elementos y aplicar la máscara [False, True, True, False]. ¿Qué resulta?"
   ]
  },
  {
   "cell_type": "code",
   "execution_count": 19,
   "metadata": {},
   "outputs": [
    {
     "name": "stdout",
     "output_type": "stream",
     "text": [
      "[2 3]\n"
     ]
    }
   ],
   "source": [
    "arr=np.array([1,2,3,4])\n",
    "mask=np.array([False, True, True, False])\n",
    "print(arr[mask])\n"
   ]
  },
  {
   "cell_type": "markdown",
   "metadata": {},
   "source": [
    "b)Crear un arreglo unidimensional de números enteros aleatorios y filtrar por los valores mayores al promedio, números impares y números pares menores al promedio.\n",
    "\n"
   ]
  },
  {
   "cell_type": "code",
   "execution_count": 20,
   "metadata": {},
   "outputs": [
    {
     "name": "stdout",
     "output_type": "stream",
     "text": [
      "[11 18 16  3 17 17  4 18 18 13]\n",
      "[18 16 17 17 18 18]\n",
      "[11  3 17 17 13]\n",
      "[4]\n"
     ]
    }
   ],
   "source": [
    "arr=np.random.randint(1,20,10)\n",
    "print(arr)\n",
    "\n",
    "print(arr[arr>arr.mean()])\n",
    "\n",
    "print(arr[arr%2!=0])\n",
    "\n",
    "print(arr[((arr%2==0) & (arr<arr.mean()))])\n"
   ]
  },
  {
   "cell_type": "markdown",
   "metadata": {},
   "source": [
    "c) En un arreglo bidimensional A de valores aleatorios enteros, ¿qué diferencia hay entre hacer A > A.mean() y A [A> A.mean()]?"
   ]
  },
  {
   "cell_type": "code",
   "execution_count": 21,
   "metadata": {},
   "outputs": [
    {
     "name": "stdout",
     "output_type": "stream",
     "text": [
      "[[ 6  2  3 11  4]\n",
      " [ 3  9 10 18  4]\n",
      " [16 11 11  1 17]\n",
      " [ 2  3  7 15 15]\n",
      " [ 7  5  6  8 16]]\n",
      "2\n",
      "8.4\n",
      "[[False False False  True False]\n",
      " [False  True  True  True False]\n",
      " [ True  True  True False  True]\n",
      " [False False False  True  True]\n",
      " [False False False False  True]]\n",
      "[11  9 10 18 16 11 11 17 15 15 16]\n"
     ]
    }
   ],
   "source": [
    "arr=np.random.choice(np.arange(1,20),(5,5),replace=True)\n",
    "print(arr)\n",
    "print(arr.ndim)\n",
    "print(arr.mean())\n",
    "print(arr>arr.mean())\n",
    "\n",
    "print(arr[arr>arr.mean()])"
   ]
  }
 ],
 "metadata": {
  "kernelspec": {
   "display_name": "CursoMachineLearning",
   "language": "python",
   "name": "python3"
  },
  "language_info": {
   "codemirror_mode": {
    "name": "ipython",
    "version": 3
   },
   "file_extension": ".py",
   "mimetype": "text/x-python",
   "name": "python",
   "nbconvert_exporter": "python",
   "pygments_lexer": "ipython3",
   "version": "3.11.8"
  }
 },
 "nbformat": 4,
 "nbformat_minor": 2
}
